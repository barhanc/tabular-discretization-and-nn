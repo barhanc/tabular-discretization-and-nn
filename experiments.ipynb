{
 "cells": [
  {
   "cell_type": "code",
   "execution_count": 23,
   "id": "01151b4f",
   "metadata": {},
   "outputs": [],
   "source": [
    "import numpy as np\n",
    "import pandas as pd\n",
    "\n",
    "from sklearn.datasets import fetch_openml\n",
    "from sklearn.metrics import accuracy_score\n",
    "from sklearn.model_selection import train_test_split\n",
    "from sklearn.preprocessing import QuantileTransformer, OneHotEncoder, KBinsDiscretizer, MinMaxScaler, StandardScaler\n",
    "from sklearn.compose import ColumnTransformer\n",
    "from sklearn.pipeline import make_pipeline\n",
    "from feature_engine.discretisation import EqualWidthDiscretiser, EqualFrequencyDiscretiser\n",
    "\n",
    "from mlp import MLPClassifier\n",
    "from sklearn.linear_model import LogisticRegressionCV\n",
    "from sklearn.ensemble import RandomForestClassifier, HistGradientBoostingClassifier, ExtraTreesClassifier"
   ]
  },
  {
   "cell_type": "code",
   "execution_count": 2,
   "id": "eaa2619c",
   "metadata": {},
   "outputs": [],
   "source": [
    "datasets = {\n",
    "    \"electricity\": 44120,\n",
    "    \"covertype\": 44121,\n",
    "    \"pol\": 44122,\n",
    "    \"house_16H\": 44123,\n",
    "    \"kdd_ipums_la_97-small\": 44124,\n",
    "    \"MagicTelescope\": 44125,\n",
    "    \"bank-marketing\": 44126,\n",
    "    \"phoneme\": 44127,\n",
    "    \"MiniBooNE\": 44128,\n",
    "    \"Higgs\": 44129,\n",
    "    \"eye_movements\": 44130,\n",
    "    \"jannis\": 44131,\n",
    "    \"credit\": 44089,\n",
    "    \"california\": 44090,\n",
    "    \"wine\": 44091,\n",
    "    \"compass\": 44162,\n",
    "    \"rl\": 44160,\n",
    "    \"road-safety\": 44161,\n",
    "}"
   ]
  },
  {
   "cell_type": "code",
   "execution_count": 146,
   "id": "17f6273f",
   "metadata": {},
   "outputs": [
    {
     "name": "stdout",
     "output_type": "stream",
     "text": [
      "\n",
      "datset = phoneme | size = (3172, 5) | #NaN = 0\n"
     ]
    }
   ],
   "source": [
    "key = \"phoneme\"\n",
    "\n",
    "X: pd.DataFrame\n",
    "y: pd.DataFrame\n",
    "X, y = fetch_openml(\n",
    "    data_id=datasets[key],\n",
    "    return_X_y=True,\n",
    "    as_frame=True,\n",
    ")\n",
    "cat_features = X.select_dtypes(include=\"category\").columns\n",
    "num_features = X.select_dtypes(exclude=\"category\").columns\n",
    "\n",
    "print()\n",
    "print(f\"datset = {key} | size = {X.shape} | #NaN = {X.isna().sum().sum()}\")"
   ]
  },
  {
   "cell_type": "code",
   "execution_count": 147,
   "id": "64fd25d6",
   "metadata": {},
   "outputs": [
    {
     "data": {
      "text/html": [
       "<div>\n",
       "<style scoped>\n",
       "    .dataframe tbody tr th:only-of-type {\n",
       "        vertical-align: middle;\n",
       "    }\n",
       "\n",
       "    .dataframe tbody tr th {\n",
       "        vertical-align: top;\n",
       "    }\n",
       "\n",
       "    .dataframe thead th {\n",
       "        text-align: right;\n",
       "    }\n",
       "</style>\n",
       "<table border=\"1\" class=\"dataframe\">\n",
       "  <thead>\n",
       "    <tr style=\"text-align: right;\">\n",
       "      <th></th>\n",
       "      <th>V1</th>\n",
       "      <th>V2</th>\n",
       "      <th>V3</th>\n",
       "      <th>V4</th>\n",
       "      <th>V5</th>\n",
       "    </tr>\n",
       "  </thead>\n",
       "  <tbody>\n",
       "    <tr>\n",
       "      <th>0</th>\n",
       "      <td>0.553823</td>\n",
       "      <td>-0.189665</td>\n",
       "      <td>-1.668229</td>\n",
       "      <td>-1.249093</td>\n",
       "      <td>-0.685406</td>\n",
       "    </tr>\n",
       "    <tr>\n",
       "      <th>1</th>\n",
       "      <td>-0.660158</td>\n",
       "      <td>-0.141079</td>\n",
       "      <td>2.535399</td>\n",
       "      <td>-1.544766</td>\n",
       "      <td>-0.136583</td>\n",
       "    </tr>\n",
       "    <tr>\n",
       "      <th>2</th>\n",
       "      <td>-0.757811</td>\n",
       "      <td>-0.176658</td>\n",
       "      <td>1.016982</td>\n",
       "      <td>-1.107165</td>\n",
       "      <td>-0.486269</td>\n",
       "    </tr>\n",
       "    <tr>\n",
       "      <th>3</th>\n",
       "      <td>-0.755110</td>\n",
       "      <td>-0.160173</td>\n",
       "      <td>0.880969</td>\n",
       "      <td>-1.090817</td>\n",
       "      <td>-0.491231</td>\n",
       "    </tr>\n",
       "    <tr>\n",
       "      <th>4</th>\n",
       "      <td>-0.565511</td>\n",
       "      <td>0.453241</td>\n",
       "      <td>0.829977</td>\n",
       "      <td>0.300258</td>\n",
       "      <td>-0.136583</td>\n",
       "    </tr>\n",
       "    <tr>\n",
       "      <th>...</th>\n",
       "      <td>...</td>\n",
       "      <td>...</td>\n",
       "      <td>...</td>\n",
       "      <td>...</td>\n",
       "      <td>...</td>\n",
       "    </tr>\n",
       "    <tr>\n",
       "      <th>3167</th>\n",
       "      <td>-0.612399</td>\n",
       "      <td>-0.179619</td>\n",
       "      <td>0.029014</td>\n",
       "      <td>2.340936</td>\n",
       "      <td>-1.220216</td>\n",
       "    </tr>\n",
       "    <tr>\n",
       "      <th>3168</th>\n",
       "      <td>-0.193525</td>\n",
       "      <td>-0.232036</td>\n",
       "      <td>1.681170</td>\n",
       "      <td>1.439754</td>\n",
       "      <td>-0.833708</td>\n",
       "    </tr>\n",
       "    <tr>\n",
       "      <th>3169</th>\n",
       "      <td>-0.044375</td>\n",
       "      <td>-0.010512</td>\n",
       "      <td>0.030989</td>\n",
       "      <td>-0.019379</td>\n",
       "      <td>1.281061</td>\n",
       "    </tr>\n",
       "    <tr>\n",
       "      <th>3170</th>\n",
       "      <td>0.246882</td>\n",
       "      <td>-0.793228</td>\n",
       "      <td>1.190101</td>\n",
       "      <td>1.423194</td>\n",
       "      <td>-1.303036</td>\n",
       "    </tr>\n",
       "    <tr>\n",
       "      <th>3171</th>\n",
       "      <td>-0.794604</td>\n",
       "      <td>-0.640053</td>\n",
       "      <td>0.632221</td>\n",
       "      <td>0.720280</td>\n",
       "      <td>-1.231182</td>\n",
       "    </tr>\n",
       "  </tbody>\n",
       "</table>\n",
       "<p>3172 rows × 5 columns</p>\n",
       "</div>"
      ],
      "text/plain": [
       "            V1        V2        V3        V4        V5\n",
       "0     0.553823 -0.189665 -1.668229 -1.249093 -0.685406\n",
       "1    -0.660158 -0.141079  2.535399 -1.544766 -0.136583\n",
       "2    -0.757811 -0.176658  1.016982 -1.107165 -0.486269\n",
       "3    -0.755110 -0.160173  0.880969 -1.090817 -0.491231\n",
       "4    -0.565511  0.453241  0.829977  0.300258 -0.136583\n",
       "...        ...       ...       ...       ...       ...\n",
       "3167 -0.612399 -0.179619  0.029014  2.340936 -1.220216\n",
       "3168 -0.193525 -0.232036  1.681170  1.439754 -0.833708\n",
       "3169 -0.044375 -0.010512  0.030989 -0.019379  1.281061\n",
       "3170  0.246882 -0.793228  1.190101  1.423194 -1.303036\n",
       "3171 -0.794604 -0.640053  0.632221  0.720280 -1.231182\n",
       "\n",
       "[3172 rows x 5 columns]"
      ]
     },
     "execution_count": 147,
     "metadata": {},
     "output_type": "execute_result"
    }
   ],
   "source": [
    "X"
   ]
  },
  {
   "cell_type": "code",
   "execution_count": 148,
   "id": "32038916",
   "metadata": {},
   "outputs": [],
   "source": [
    "X_train, X_test, y_train, y_test = train_test_split(X, y, test_size=0.3, stratify=y, shuffle=True)\n",
    "\n",
    "cat_transformer = ColumnTransformer(\n",
    "    [(\"cat\", OneHotEncoder(sparse_output=False, drop=\"first\"), cat_features)],\n",
    "    remainder=\"passthrough\",\n",
    "    verbose_feature_names_out=False,\n",
    ")\n",
    "cat_transformer.set_output(transform=\"pandas\")\n",
    "\n",
    "X_train = cat_transformer.fit_transform(X_train)\n",
    "X_test = cat_transformer.transform(X_test)"
   ]
  },
  {
   "cell_type": "code",
   "execution_count": 149,
   "id": "f89b7e17",
   "metadata": {},
   "outputs": [
    {
     "name": "stdout",
     "output_type": "stream",
     "text": [
      "74.58%\n"
     ]
    }
   ],
   "source": [
    "clf = make_pipeline(\n",
    "    QuantileTransformer(output_distribution=\"normal\", random_state=0),\n",
    "    LogisticRegressionCV(random_state=0, max_iter=1_000),\n",
    ")\n",
    "clf.fit(X_train, y_train)\n",
    "\n",
    "print(f\"{accuracy_score(y_test, clf.predict(X_test)):.2%}\")"
   ]
  },
  {
   "cell_type": "code",
   "execution_count": 150,
   "id": "001d6ddd",
   "metadata": {},
   "outputs": [
    {
     "name": "stdout",
     "output_type": "stream",
     "text": [
      "88.55%\n"
     ]
    }
   ],
   "source": [
    "clf = RandomForestClassifier(random_state=0)\n",
    "clf.fit(X_train, y_train)\n",
    "print(f\"{accuracy_score(y_test, clf.predict(X_test)):.2%}\")"
   ]
  },
  {
   "cell_type": "code",
   "execution_count": 151,
   "id": "6c683986",
   "metadata": {},
   "outputs": [
    {
     "name": "stdout",
     "output_type": "stream",
     "text": [
      "87.92%\n"
     ]
    }
   ],
   "source": [
    "clf = HistGradientBoostingClassifier(random_state=0)\n",
    "clf.fit(X_train, y_train)\n",
    "print(f\"{accuracy_score(y_test, clf.predict(X_test)):.2%}\")"
   ]
  },
  {
   "cell_type": "code",
   "execution_count": null,
   "id": "cbe7db92",
   "metadata": {},
   "outputs": [
    {
     "name": "stderr",
     "output_type": "stream",
     "text": [
      "Iter 500/500 | Train acc. 66.80% | Valid acc. 77.93% | Best  acc.  78.68%: 100%|██████████| 500/500 [00:03<00:00, 148.42it/s]"
     ]
    },
    {
     "name": "stdout",
     "output_type": "stream",
     "text": [
      "80.88%\n"
     ]
    },
    {
     "name": "stderr",
     "output_type": "stream",
     "text": [
      "\n"
     ]
    }
   ],
   "source": [
    "in_features = X_train.shape[1]\n",
    "n_classes = len(np.unique(y))\n",
    "\n",
    "clf = make_pipeline(\n",
    "    StandardScaler(),\n",
    "    MLPClassifier(\n",
    "        in_features=in_features,\n",
    "        out_features=n_classes,\n",
    "        hidden_layer_size=in_features * 2,\n",
    "        num_hidden_layers=2,\n",
    "        dropout_rate=0.4,\n",
    "        learning_rate=1e-3,\n",
    "        max_iter=500,\n",
    "        batch_size=512,\n",
    "        validation_fraction=0.3,\n",
    "        early_stopping=False,\n",
    "        patience=50,\n",
    "        random_state=0,\n",
    "        verbose=True,\n",
    "    ),\n",
    ")\n",
    "\n",
    "clf.fit(X_train, y_train)\n",
    "print(f\"{accuracy_score(y_test, clf.predict(X_test)):.2%}\")"
   ]
  },
  {
   "cell_type": "code",
   "execution_count": null,
   "id": "b50df7b9",
   "metadata": {},
   "outputs": [],
   "source": []
  }
 ],
 "metadata": {
  "kernelspec": {
   "display_name": "venv",
   "language": "python",
   "name": "python3"
  },
  "language_info": {
   "codemirror_mode": {
    "name": "ipython",
    "version": 3
   },
   "file_extension": ".py",
   "mimetype": "text/x-python",
   "name": "python",
   "nbconvert_exporter": "python",
   "pygments_lexer": "ipython3",
   "version": "3.10.12"
  }
 },
 "nbformat": 4,
 "nbformat_minor": 5
}
