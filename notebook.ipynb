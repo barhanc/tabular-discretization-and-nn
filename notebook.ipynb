{
 "cells": [
  {
   "cell_type": "code",
   "execution_count": 27,
   "id": "f74b8372",
   "metadata": {},
   "outputs": [],
   "source": [
    "import numpy as np\n",
    "import pandas as pd\n",
    "import seaborn as sns\n",
    "import matplotlib.pyplot as plt\n",
    "\n",
    "import sklearn\n",
    "import warnings\n",
    "\n",
    "# warnings.simplefilter(\"ignore\", UserWarning | FutureWarning)\n",
    "sklearn.set_config(transform_output=\"pandas\")\n",
    "\n",
    "from sklearn.datasets import fetch_openml\n",
    "from sklearn.preprocessing import (\n",
    "    KBinsDiscretizer,\n",
    "    QuantileTransformer,\n",
    "    OneHotEncoder,\n",
    "    MinMaxScaler,\n",
    "    StandardScaler,\n",
    "    OrdinalEncoder,\n",
    ")\n",
    "from sklearn.impute import SimpleImputer\n",
    "from sklearn.compose import ColumnTransformer\n",
    "\n",
    "from sklearn.pipeline import make_pipeline, Pipeline\n",
    "from sklearn.model_selection import train_test_split, GridSearchCV, cross_val_score\n",
    "from sklearn.metrics import accuracy_score\n",
    "\n",
    "from sklearn.neural_network import MLPClassifier\n",
    "from sklearn.linear_model import LogisticRegressionCV\n",
    "from sklearn.ensemble import HistGradientBoostingClassifier, RandomForestClassifier\n",
    "from catboost import CatBoostClassifier"
   ]
  },
  {
   "cell_type": "code",
   "execution_count": null,
   "id": "a4c850f2",
   "metadata": {},
   "outputs": [
    {
     "name": "stdout",
     "output_type": "stream",
     "text": [
      "0:\tlearn: 0.6544617\ttest: 0.6507649\tbest: 0.6507649 (0)\ttotal: 10.2ms\tremaining: 50.8s\n",
      "1000:\tlearn: 0.9399443\ttest: 0.8660427\tbest: 0.8660427 (999)\ttotal: 10.4s\tremaining: 41.5s\n",
      "2000:\tlearn: 0.9767270\ttest: 0.8699678\tbest: 0.8699678 (1732)\ttotal: 20.6s\tremaining: 30.8s\n",
      "3000:\tlearn: 0.9840187\ttest: 0.8717794\tbest: 0.8721820 (2996)\ttotal: 30.6s\tremaining: 20.4s\n",
      "4000:\tlearn: 0.9859199\ttest: 0.8701691\tbest: 0.8722826 (3080)\ttotal: 40.4s\tremaining: 10.1s\n",
      "bestTest = 0.8722826087\n",
      "bestIteration = 3080\n",
      "Shrink model to first 3081 iterations.\n"
     ]
    },
    {
     "data": {
      "text/plain": [
       "0.8697463768115942"
      ]
     },
     "execution_count": 47,
     "metadata": {},
     "output_type": "execute_result"
    }
   ],
   "source": [
    "DATASETS: list[str] = [\n",
    "    \"covertype\",\n",
    "    \"adult\",\n",
    "    \"higgs\",\n",
    "    \"heloc\",\n",
    "]\n",
    "\n",
    "dataset = \"covertype\"\n",
    "\n",
    "df: pd.DataFrame\n",
    "y: pd.Series\n",
    "\n",
    "df, y = fetch_openml(name=dataset, version=1, return_X_y=True, as_frame=True)\n",
    "y = y.cat.codes if isinstance(y.dtype, pd.CategoricalDtype) else y\n",
    "\n",
    "cat_features = df.select_dtypes(include=\"category\").columns\n",
    "num_features = df.select_dtypes(exclude=\"category\").columns\n",
    "\n",
    "\n",
    "# --- Simple / automatic preprocessing\n",
    "num_transformer = make_pipeline(\n",
    "    SimpleImputer(strategy=\"constant\", fill_value=0),\n",
    "    QuantileTransformer(output_distribution=\"normal\"),\n",
    "    # KBinsDiscretizer(n_bins=10, encode=\"ordinal\", strategy=\"kmeans\", random_state=0),\n",
    "    # MinMaxScaler(),\n",
    ")\n",
    "cat_transformer = make_pipeline(\n",
    "    OrdinalEncoder(handle_unknown=\"use_encoded_value\", unknown_value=-1),\n",
    ")\n",
    "col_transformer = ColumnTransformer(\n",
    "    [\n",
    "        (\"num\", num_transformer, num_features),\n",
    "        (\"cat\", cat_transformer, cat_features),\n",
    "    ],\n",
    "    verbose_feature_names_out=False,\n",
    ")\n",
    "\n",
    "# --- Train-test split\n",
    "X_train, X_test, y_train, y_test = train_test_split(\n",
    "    df,\n",
    "    y,\n",
    "    test_size=0.1,\n",
    "    stratify=y,\n",
    "    random_state=0,\n",
    ")\n",
    "X_train, X_valid, y_train, y_valid = train_test_split(\n",
    "    X_train,\n",
    "    y_train,\n",
    "    test_size=0.1,\n",
    "    stratify=y_train,\n",
    "    random_state=0,\n",
    ")\n",
    "\n",
    "X_train = col_transformer.fit_transform(X_train)\n",
    "X_valid = col_transformer.transform(X_valid)\n",
    "X_test = col_transformer.transform(X_test)\n",
    "\n",
    "# --- Clf training\n",
    "cat_params = {\n",
    "    \"iterations\": 5000,\n",
    "    \"learning_rate\": 0.277,\n",
    "    \"od_wait\": 1000,\n",
    "    \"max_depth\": 7,\n",
    "    \"task_type\": \"GPU\",\n",
    "    \"l2_leaf_reg\": 1.037,\n",
    "    \"eval_metric\": \"Accuracy\",\n",
    "    \"devices\": \"0\",\n",
    "    \"verbose\": 1000,\n",
    "}\n",
    "clf = CatBoostClassifier(**cat_params)\n",
    "clf.fit(X_train, y_train, eval_set=(X_valid, y_valid))\n",
    "accuracy_score(clf.predict(X_test), y_test)"
   ]
  },
  {
   "cell_type": "code",
   "execution_count": null,
   "id": "c6b3cb8c",
   "metadata": {},
   "outputs": [],
   "source": []
  }
 ],
 "metadata": {
  "kernelspec": {
   "display_name": "venv",
   "language": "python",
   "name": "python3"
  },
  "language_info": {
   "codemirror_mode": {
    "name": "ipython",
    "version": 3
   },
   "file_extension": ".py",
   "mimetype": "text/x-python",
   "name": "python",
   "nbconvert_exporter": "python",
   "pygments_lexer": "ipython3",
   "version": "3.10.12"
  }
 },
 "nbformat": 4,
 "nbformat_minor": 5
}
